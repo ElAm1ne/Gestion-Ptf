{
 "cells": [
  {
   "attachments": {},
   "cell_type": "markdown",
   "metadata": {},
   "source": [
    "Initialization"
   ]
  },
  {
   "cell_type": "code",
   "execution_count": 44,
   "metadata": {},
   "outputs": [],
   "source": [
    "import pandas as pd\n",
    "import numpy as np\n",
    "import matplotlib.pyplot as plt \n",
    "\n",
    "Accord = pd.read_excel('AccordHotel.xlsm', names = ['id', 'date', 'open', 'high', 'low', 'close', 'volume'])\n",
    "Axa = pd.read_excel('Axa.xlsm', names = ['id', 'date', 'open', 'high', 'low', 'close', 'volume'])\n",
    "BNP = pd.read_excel('BNP.xlsm', names = ['id', 'date', 'open', 'high', 'low', 'close', 'volume'])\n",
    "Casino = pd.read_excel('Casino.xlsm', names = ['id', 'date', 'open', 'high', 'low', 'close', 'volume'])\n",
    "ENGI = pd.read_excel('ENGI.xlsm', names = ['id', 'date', 'open', 'high', 'low', 'close', 'volume'])\n",
    "LVMH = pd.read_excel('LVMH.xlsm', names = ['id', 'date', 'open', 'high', 'low', 'close', 'volume'])\n",
    "Orange = pd.read_excel('Orange.xlsm', names = ['id', 'date', 'open', 'high', 'low', 'close', 'volume'])\n",
    "Peugeot = pd.read_excel('Peugeot.xlsm', names = ['id', 'date', 'open', 'high', 'low', 'close', 'volume'])\n",
    "Renault = pd.read_excel('Renault.xlsm', names = ['id', 'date', 'open', 'high', 'low', 'close', 'volume'])\n",
    "Total = pd.read_excel('Total.xlsm', names = ['id', 'date', 'open', 'high', 'low', 'close', 'volume'])\n",
    "Veolia = pd.read_excel('Veolia.xlsm', names = ['id', 'date', 'open', 'high', 'low', 'close', 'volume'])\n",
    "Vivendi = pd.read_excel('Vivendi.xlsm', names = ['id', 'date', 'open', 'high', 'low', 'close', 'volume'])\n",
    "\n",
    "datas = [Accord, Axa, BNP, Casino, ENGI, LVMH, Orange, Peugeot, Renault, Total, Veolia, Vivendi]"
   ]
  },
  {
   "attachments": {},
   "cell_type": "markdown",
   "metadata": {},
   "source": [
    "Calcul emprique"
   ]
  },
  {
   "cell_type": "code",
   "execution_count": 45,
   "metadata": {},
   "outputs": [
    {
     "name": "stderr",
     "output_type": "stream",
     "text": [
      "C:\\Users\\user\\AppData\\Local\\Temp\\ipykernel_12120\\2865213390.py:4: SettingWithCopyWarning: \n",
      "A value is trying to be set on a copy of a slice from a DataFrame\n",
      "\n",
      "See the caveats in the documentation: https://pandas.pydata.org/pandas-docs/stable/user_guide/indexing.html#returning-a-view-versus-a-copy\n",
      "  datas[i]['R'].iloc[j] = (datas[i]['low'].iloc[j+1] + datas[i]['high'].iloc[j+1])/(datas[i]['low'].iloc[j] + datas[i]['high'].iloc[j]) - 1\n",
      "C:\\Users\\user\\AppData\\Local\\Temp\\ipykernel_12120\\2865213390.py:4: SettingWithCopyWarning: \n",
      "A value is trying to be set on a copy of a slice from a DataFrame\n",
      "\n",
      "See the caveats in the documentation: https://pandas.pydata.org/pandas-docs/stable/user_guide/indexing.html#returning-a-view-versus-a-copy\n",
      "  datas[i]['R'].iloc[j] = (datas[i]['low'].iloc[j+1] + datas[i]['high'].iloc[j+1])/(datas[i]['low'].iloc[j] + datas[i]['high'].iloc[j]) - 1\n",
      "C:\\Users\\user\\AppData\\Local\\Temp\\ipykernel_12120\\2865213390.py:4: SettingWithCopyWarning: \n",
      "A value is trying to be set on a copy of a slice from a DataFrame\n",
      "\n",
      "See the caveats in the documentation: https://pandas.pydata.org/pandas-docs/stable/user_guide/indexing.html#returning-a-view-versus-a-copy\n",
      "  datas[i]['R'].iloc[j] = (datas[i]['low'].iloc[j+1] + datas[i]['high'].iloc[j+1])/(datas[i]['low'].iloc[j] + datas[i]['high'].iloc[j]) - 1\n",
      "C:\\Users\\user\\AppData\\Local\\Temp\\ipykernel_12120\\2865213390.py:4: SettingWithCopyWarning: \n",
      "A value is trying to be set on a copy of a slice from a DataFrame\n",
      "\n",
      "See the caveats in the documentation: https://pandas.pydata.org/pandas-docs/stable/user_guide/indexing.html#returning-a-view-versus-a-copy\n",
      "  datas[i]['R'].iloc[j] = (datas[i]['low'].iloc[j+1] + datas[i]['high'].iloc[j+1])/(datas[i]['low'].iloc[j] + datas[i]['high'].iloc[j]) - 1\n",
      "C:\\Users\\user\\AppData\\Local\\Temp\\ipykernel_12120\\2865213390.py:4: SettingWithCopyWarning: \n",
      "A value is trying to be set on a copy of a slice from a DataFrame\n",
      "\n",
      "See the caveats in the documentation: https://pandas.pydata.org/pandas-docs/stable/user_guide/indexing.html#returning-a-view-versus-a-copy\n",
      "  datas[i]['R'].iloc[j] = (datas[i]['low'].iloc[j+1] + datas[i]['high'].iloc[j+1])/(datas[i]['low'].iloc[j] + datas[i]['high'].iloc[j]) - 1\n",
      "C:\\Users\\user\\AppData\\Local\\Temp\\ipykernel_12120\\2865213390.py:4: SettingWithCopyWarning: \n",
      "A value is trying to be set on a copy of a slice from a DataFrame\n",
      "\n",
      "See the caveats in the documentation: https://pandas.pydata.org/pandas-docs/stable/user_guide/indexing.html#returning-a-view-versus-a-copy\n",
      "  datas[i]['R'].iloc[j] = (datas[i]['low'].iloc[j+1] + datas[i]['high'].iloc[j+1])/(datas[i]['low'].iloc[j] + datas[i]['high'].iloc[j]) - 1\n",
      "C:\\Users\\user\\AppData\\Local\\Temp\\ipykernel_12120\\2865213390.py:4: SettingWithCopyWarning: \n",
      "A value is trying to be set on a copy of a slice from a DataFrame\n",
      "\n",
      "See the caveats in the documentation: https://pandas.pydata.org/pandas-docs/stable/user_guide/indexing.html#returning-a-view-versus-a-copy\n",
      "  datas[i]['R'].iloc[j] = (datas[i]['low'].iloc[j+1] + datas[i]['high'].iloc[j+1])/(datas[i]['low'].iloc[j] + datas[i]['high'].iloc[j]) - 1\n",
      "C:\\Users\\user\\AppData\\Local\\Temp\\ipykernel_12120\\2865213390.py:4: SettingWithCopyWarning: \n",
      "A value is trying to be set on a copy of a slice from a DataFrame\n",
      "\n",
      "See the caveats in the documentation: https://pandas.pydata.org/pandas-docs/stable/user_guide/indexing.html#returning-a-view-versus-a-copy\n",
      "  datas[i]['R'].iloc[j] = (datas[i]['low'].iloc[j+1] + datas[i]['high'].iloc[j+1])/(datas[i]['low'].iloc[j] + datas[i]['high'].iloc[j]) - 1\n",
      "C:\\Users\\user\\AppData\\Local\\Temp\\ipykernel_12120\\2865213390.py:4: SettingWithCopyWarning: \n",
      "A value is trying to be set on a copy of a slice from a DataFrame\n",
      "\n",
      "See the caveats in the documentation: https://pandas.pydata.org/pandas-docs/stable/user_guide/indexing.html#returning-a-view-versus-a-copy\n",
      "  datas[i]['R'].iloc[j] = (datas[i]['low'].iloc[j+1] + datas[i]['high'].iloc[j+1])/(datas[i]['low'].iloc[j] + datas[i]['high'].iloc[j]) - 1\n",
      "C:\\Users\\user\\AppData\\Local\\Temp\\ipykernel_12120\\2865213390.py:4: SettingWithCopyWarning: \n",
      "A value is trying to be set on a copy of a slice from a DataFrame\n",
      "\n",
      "See the caveats in the documentation: https://pandas.pydata.org/pandas-docs/stable/user_guide/indexing.html#returning-a-view-versus-a-copy\n",
      "  datas[i]['R'].iloc[j] = (datas[i]['low'].iloc[j+1] + datas[i]['high'].iloc[j+1])/(datas[i]['low'].iloc[j] + datas[i]['high'].iloc[j]) - 1\n",
      "C:\\Users\\user\\AppData\\Local\\Temp\\ipykernel_12120\\2865213390.py:4: SettingWithCopyWarning: \n",
      "A value is trying to be set on a copy of a slice from a DataFrame\n",
      "\n",
      "See the caveats in the documentation: https://pandas.pydata.org/pandas-docs/stable/user_guide/indexing.html#returning-a-view-versus-a-copy\n",
      "  datas[i]['R'].iloc[j] = (datas[i]['low'].iloc[j+1] + datas[i]['high'].iloc[j+1])/(datas[i]['low'].iloc[j] + datas[i]['high'].iloc[j]) - 1\n",
      "C:\\Users\\user\\AppData\\Local\\Temp\\ipykernel_12120\\2865213390.py:4: SettingWithCopyWarning: \n",
      "A value is trying to be set on a copy of a slice from a DataFrame\n",
      "\n",
      "See the caveats in the documentation: https://pandas.pydata.org/pandas-docs/stable/user_guide/indexing.html#returning-a-view-versus-a-copy\n",
      "  datas[i]['R'].iloc[j] = (datas[i]['low'].iloc[j+1] + datas[i]['high'].iloc[j+1])/(datas[i]['low'].iloc[j] + datas[i]['high'].iloc[j]) - 1\n"
     ]
    },
    {
     "data": {
      "text/plain": [
       "[-0.0006401792778455088,\n",
       " -0.0010525263114721855,\n",
       " -0.001829743349972335,\n",
       " -0.0013104455101185235,\n",
       " -0.000492563944316347,\n",
       " 0.00025878178177848724,\n",
       " -8.334380139173682e-05,\n",
       " 0.00035640289946057446,\n",
       " -0.0017154854383169872,\n",
       " 7.791569222361497e-06,\n",
       " -0.0006615667317761678,\n",
       " -0.00024007184962658568]"
      ]
     },
     "execution_count": 45,
     "metadata": {},
     "output_type": "execute_result"
    }
   ],
   "source": [
    "for i in range(len(datas)):\n",
    "    datas[i]['R'] = np.nan\n",
    "    for j in range(254):\n",
    "        datas[i]['R'].iloc[j] = (datas[i]['low'].iloc[j+1] + datas[i]['high'].iloc[j+1])/(datas[i]['low'].iloc[j] + datas[i]['high'].iloc[j]) - 1\n",
    "\n",
    "ER = [np.mean(datas[i]['R']) for i in range(len(datas))]\n",
    "\n",
    "ER\n"
   ]
  },
  {
   "cell_type": "code",
   "execution_count": 46,
   "metadata": {},
   "outputs": [
    {
     "data": {
      "text/plain": [
       "array([[9.93061562e-05, 4.10123137e-05, 5.56113440e-05, 5.12767128e-05,\n",
       "        3.70338570e-05, 6.19118602e-05, 2.92500913e-05, 5.24098169e-05,\n",
       "        5.69902762e-05, 3.66863261e-05, 3.56065154e-05, 4.17721871e-05],\n",
       "       [4.10123137e-05, 1.29284024e-04, 8.82035702e-05, 5.71248976e-05,\n",
       "        3.80591592e-05, 5.83462076e-05, 2.88977371e-05, 7.01146250e-05,\n",
       "        6.49572619e-05, 4.86001696e-05, 2.99004409e-05, 4.66772558e-05],\n",
       "       [5.56113440e-05, 8.82035702e-05, 1.41397431e-04, 7.51848291e-05,\n",
       "        4.00337056e-05, 6.77862092e-05, 3.87055208e-05, 8.73956718e-05,\n",
       "        7.84192036e-05, 5.33605130e-05, 3.54829989e-05, 5.89058435e-05],\n",
       "       [5.12767128e-05, 5.71248976e-05, 7.51848291e-05, 4.01701650e-04,\n",
       "        3.23651532e-05, 4.59321793e-05, 4.53507461e-05, 6.86245567e-05,\n",
       "        8.91052524e-05, 3.83543726e-05, 3.45380287e-05, 3.95634283e-05],\n",
       "       [3.70338570e-05, 3.80591592e-05, 4.00337056e-05, 3.23651532e-05,\n",
       "        1.08496745e-04, 5.72283193e-05, 3.83155108e-05, 4.61904770e-05,\n",
       "        4.07352512e-05, 4.62742099e-05, 6.44654952e-05, 3.59330435e-05],\n",
       "       [6.19118602e-05, 5.83462076e-05, 6.77862092e-05, 4.59321793e-05,\n",
       "        5.72283193e-05, 1.76342478e-04, 2.77290148e-05, 1.02694251e-04,\n",
       "        8.40575028e-05, 5.99685048e-05, 4.84155894e-05, 5.75307056e-05],\n",
       "       [2.92500913e-05, 2.88977371e-05, 3.87055208e-05, 4.53507461e-05,\n",
       "        3.83155108e-05, 2.77290148e-05, 6.51031358e-05, 2.85795816e-05,\n",
       "        3.17168491e-05, 2.92333262e-05, 3.93889857e-05, 2.91624224e-05],\n",
       "       [5.24098169e-05, 7.01146250e-05, 8.73956718e-05, 6.86245567e-05,\n",
       "        4.61904770e-05, 1.02694251e-04, 2.85795816e-05, 2.58854646e-04,\n",
       "        1.41728343e-04, 4.65425898e-05, 4.69759608e-05, 5.21803571e-05],\n",
       "       [5.69902762e-05, 6.49572619e-05, 7.84192036e-05, 8.91052524e-05,\n",
       "        4.07352512e-05, 8.40575028e-05, 3.17168491e-05, 1.41728343e-04,\n",
       "        2.34122548e-04, 5.09996242e-05, 5.09387344e-05, 5.60374396e-05],\n",
       "       [3.66863261e-05, 4.86001696e-05, 5.33605130e-05, 3.83543726e-05,\n",
       "        4.62742099e-05, 5.99685048e-05, 2.92333262e-05, 4.65425898e-05,\n",
       "        5.09996242e-05, 1.04893935e-04, 3.48775589e-05, 3.82102775e-05],\n",
       "       [3.56065154e-05, 2.99004409e-05, 3.54829989e-05, 3.45380287e-05,\n",
       "        6.44654952e-05, 4.84155894e-05, 3.93889857e-05, 4.69759608e-05,\n",
       "        5.09387344e-05, 3.48775589e-05, 1.18815906e-04, 3.89213715e-05],\n",
       "       [4.17721871e-05, 4.66772558e-05, 5.89058435e-05, 3.95634283e-05,\n",
       "        3.59330435e-05, 5.75307056e-05, 2.91624224e-05, 5.21803571e-05,\n",
       "        5.60374396e-05, 3.82102775e-05, 3.89213715e-05, 1.38039179e-04]])"
      ]
     },
     "execution_count": 46,
     "metadata": {},
     "output_type": "execute_result"
    }
   ],
   "source": [
    "cov_matrix = np.zeros((len(datas), len(datas)))\n",
    "for i in range(len(cov_matrix)):\n",
    "    for j in range(len(cov_matrix)):\n",
    "        S = 0\n",
    "        for k in range(254):\n",
    "            S += (datas[i]['R'].iloc[k] - ER[i])*(datas[j]['R'].iloc[k] - ER[j])\n",
    "        S = S/255\n",
    "        cov_matrix[i][j] = S\n",
    "\n",
    "cov_matrix"
   ]
  },
  {
   "cell_type": "code",
   "execution_count": 47,
   "metadata": {},
   "outputs": [
    {
     "data": {
      "text/plain": [
       "1.6665819157577434e-48"
      ]
     },
     "execution_count": 47,
     "metadata": {},
     "output_type": "execute_result"
    }
   ],
   "source": [
    "detCovMat = np.linalg.det(cov_matrix)\n",
    "detCovMat"
   ]
  },
  {
   "cell_type": "code",
   "execution_count": 48,
   "metadata": {},
   "outputs": [],
   "source": [
    "MatCovInv = np.linalg.inv(cov_matrix)\n",
    "toneMat = np.ones(len(datas))\n",
    "OneMat = np.transpose(toneMat)\n",
    "a = np.matmul(np.matmul(toneMat,MatCovInv), OneMat)\n",
    "b = np.matmul(np.matmul(np.transpose(ER),MatCovInv),OneMat)\n"
   ]
  },
  {
   "cell_type": "code",
   "execution_count": 55,
   "metadata": {},
   "outputs": [],
   "source": [
    "def mSig(sig):\n",
    "    return b/a + np.sqrt(np.matmul(np.matmul(ER - (b/a)*OneMat,MatCovInv),ER - (b/a)*OneMat))*np.sqrt(sig**2 - (1/a))\n",
    "def mNSig(sig):\n",
    "    return b/a - np.sqrt(np.matmul(np.matmul(ER - (b/a)*OneMat,MatCovInv),ER - (b/a)*OneMat))*np.sqrt(sig**2 - (1/a))\n",
    "\n",
    "def cste():\n",
    "    return b/a"
   ]
  },
  {
   "cell_type": "code",
   "execution_count": 58,
   "metadata": {},
   "outputs": [
    {
     "data": {
      "image/png": "[encoded data removed]",
      "text/plain": [
       "<Figure size 640x480 with 1 Axes>"
      ]
     },
     "metadata": {},
     "output_type": "display_data"
    }
   ],
   "source": [
    "x = 1000*np.linspace(1/np.sqrt(a), 10/np.sqrt(a),101)\n",
    "axeFE = [1000*mSig(0.001*x[i]) for i in range(101)]\n",
    "axeFNE = [1000*mNSig(0.001*x[i]) for i in range(101)]\n",
    "axecste = [1000*cste() for i in range(101)]\n",
    "graph = plt.plot(x, axeFE)\n",
    "graph = plt.plot(x, axeFNE)\n",
    "graph = plt.plot(x, axecste)\n",
    "\n",
    "plt.show()"
   ]
  }
 ],
 "metadata": {
  "kernelspec": {
   "display_name": "Python 3",
   "language": "python",
   "name": "python3"
  },
  "language_info": {
   "codemirror_mode": {
    "name": "ipython",
    "version": 3
   },
   "file_extension": ".py",
   "mimetype": "text/x-python",
   "name": "python",
   "nbconvert_exporter": "python",
   "pygments_lexer": "ipython3",
   "version": "3.11.0"
  },
  "orig_nbformat": 4,
  "vscode": {
   "interpreter": {
    "hash": "c261aea317cc0286b3b3261fbba9abdec21eaa57589985bb7a274bf54d6cc0a7"
   }
  }
 },
 "nbformat": 4,
 "nbformat_minor": 2
}
